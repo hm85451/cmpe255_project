{
 "cells": [
  {
   "cell_type": "code",
   "execution_count": 82,
   "id": "f939dc1d-980d-4e96-8a6c-0067fd3202a6",
   "metadata": {},
   "outputs": [],
   "source": [
    "import pandas as pd\n",
    "import numpy as np\n",
    "import matplotlib.pyplot as plt\n",
    "\n",
    "# skiprows = 10\n",
    "# nrows = 20\n",
    "cols = ['x.state', 'sexvar', 'physhlth', 'menthlth', 'exerany2', 'educa', 'income3', 'weight2', 'height3', 'lcsnumcg', 'avedrnk3', 'lsatisfy', 'mscode', 'x.age80', 'x.bmi5', 'sleptim1']\n",
    "df = pd.read_csv(\"brfss2022.csv\", nrows = 445000)\n",
    "df = df[cols]"
   ]
  },
  {
   "cell_type": "code",
   "execution_count": 83,
   "id": "a637989a-a77f-402e-afee-2b379240be11",
   "metadata": {},
   "outputs": [
    {
     "name": "stdout",
     "output_type": "stream",
     "text": [
      "<class 'pandas.core.frame.DataFrame'>\n",
      "RangeIndex: 400000 entries, 0 to 399999\n",
      "Data columns (total 16 columns):\n",
      " #   Column    Non-Null Count   Dtype  \n",
      "---  ------    --------------   -----  \n",
      " 0   x.state   400000 non-null  int64  \n",
      " 1   sexvar    400000 non-null  int64  \n",
      " 2   physhlth  399995 non-null  float64\n",
      " 3   menthlth  399997 non-null  float64\n",
      " 4   exerany2  399998 non-null  float64\n",
      " 5   educa     399995 non-null  float64\n",
      " 6   income3   388223 non-null  float64\n",
      " 7   weight2   385487 non-null  float64\n",
      " 8   height3   384423 non-null  float64\n",
      " 9   lcsnumcg  140878 non-null  float64\n",
      " 10  avedrnk3  188952 non-null  float64\n",
      " 11  lsatisfy  216747 non-null  float64\n",
      " 12  mscode    87717 non-null   float64\n",
      " 13  x.age80   400000 non-null  int64  \n",
      " 14  x.bmi5    355570 non-null  float64\n",
      " 15  sleptim1  399997 non-null  float64\n",
      "dtypes: float64(13), int64(3)\n",
      "memory usage: 48.8 MB\n"
     ]
    }
   ],
   "source": [
    "df.info()"
   ]
  },
  {
   "cell_type": "code",
   "execution_count": 84,
   "id": "208d335d-c3d3-4362-83a7-3af2f7f0f2af",
   "metadata": {},
   "outputs": [
    {
     "data": {
      "text/html": [
       "<div>\n",
       "<style scoped>\n",
       "    .dataframe tbody tr th:only-of-type {\n",
       "        vertical-align: middle;\n",
       "    }\n",
       "\n",
       "    .dataframe tbody tr th {\n",
       "        vertical-align: top;\n",
       "    }\n",
       "\n",
       "    .dataframe thead th {\n",
       "        text-align: right;\n",
       "    }\n",
       "</style>\n",
       "<table border=\"1\" class=\"dataframe\">\n",
       "  <thead>\n",
       "    <tr style=\"text-align: right;\">\n",
       "      <th></th>\n",
       "      <th>x.state</th>\n",
       "      <th>sexvar</th>\n",
       "      <th>physhlth</th>\n",
       "      <th>menthlth</th>\n",
       "      <th>exerany2</th>\n",
       "      <th>educa</th>\n",
       "      <th>income3</th>\n",
       "      <th>weight2</th>\n",
       "      <th>height3</th>\n",
       "      <th>lcsnumcg</th>\n",
       "      <th>avedrnk3</th>\n",
       "      <th>lsatisfy</th>\n",
       "      <th>mscode</th>\n",
       "      <th>x.age80</th>\n",
       "      <th>x.bmi5</th>\n",
       "      <th>sleptim1</th>\n",
       "    </tr>\n",
       "  </thead>\n",
       "  <tbody>\n",
       "    <tr>\n",
       "      <th>0</th>\n",
       "      <td>1</td>\n",
       "      <td>2</td>\n",
       "      <td>88.0</td>\n",
       "      <td>88.0</td>\n",
       "      <td>2.0</td>\n",
       "      <td>6.0</td>\n",
       "      <td>99.0</td>\n",
       "      <td>9999.0</td>\n",
       "      <td>9999.0</td>\n",
       "      <td>NaN</td>\n",
       "      <td>NaN</td>\n",
       "      <td>1.0</td>\n",
       "      <td>2.0</td>\n",
       "      <td>80</td>\n",
       "      <td>NaN</td>\n",
       "      <td>8.0</td>\n",
       "    </tr>\n",
       "    <tr>\n",
       "      <th>1</th>\n",
       "      <td>1</td>\n",
       "      <td>2</td>\n",
       "      <td>88.0</td>\n",
       "      <td>88.0</td>\n",
       "      <td>2.0</td>\n",
       "      <td>4.0</td>\n",
       "      <td>5.0</td>\n",
       "      <td>150.0</td>\n",
       "      <td>503.0</td>\n",
       "      <td>NaN</td>\n",
       "      <td>NaN</td>\n",
       "      <td>1.0</td>\n",
       "      <td>5.0</td>\n",
       "      <td>80</td>\n",
       "      <td>2657.0</td>\n",
       "      <td>6.0</td>\n",
       "    </tr>\n",
       "    <tr>\n",
       "      <th>2</th>\n",
       "      <td>1</td>\n",
       "      <td>2</td>\n",
       "      <td>2.0</td>\n",
       "      <td>3.0</td>\n",
       "      <td>1.0</td>\n",
       "      <td>6.0</td>\n",
       "      <td>10.0</td>\n",
       "      <td>140.0</td>\n",
       "      <td>502.0</td>\n",
       "      <td>NaN</td>\n",
       "      <td>NaN</td>\n",
       "      <td>2.0</td>\n",
       "      <td>2.0</td>\n",
       "      <td>56</td>\n",
       "      <td>2561.0</td>\n",
       "      <td>5.0</td>\n",
       "    </tr>\n",
       "    <tr>\n",
       "      <th>3</th>\n",
       "      <td>1</td>\n",
       "      <td>2</td>\n",
       "      <td>88.0</td>\n",
       "      <td>88.0</td>\n",
       "      <td>1.0</td>\n",
       "      <td>4.0</td>\n",
       "      <td>77.0</td>\n",
       "      <td>140.0</td>\n",
       "      <td>505.0</td>\n",
       "      <td>2.0</td>\n",
       "      <td>NaN</td>\n",
       "      <td>1.0</td>\n",
       "      <td>1.0</td>\n",
       "      <td>73</td>\n",
       "      <td>2330.0</td>\n",
       "      <td>7.0</td>\n",
       "    </tr>\n",
       "    <tr>\n",
       "      <th>4</th>\n",
       "      <td>1</td>\n",
       "      <td>2</td>\n",
       "      <td>2.0</td>\n",
       "      <td>88.0</td>\n",
       "      <td>1.0</td>\n",
       "      <td>5.0</td>\n",
       "      <td>5.0</td>\n",
       "      <td>119.0</td>\n",
       "      <td>502.0</td>\n",
       "      <td>NaN</td>\n",
       "      <td>2.0</td>\n",
       "      <td>1.0</td>\n",
       "      <td>1.0</td>\n",
       "      <td>43</td>\n",
       "      <td>2177.0</td>\n",
       "      <td>9.0</td>\n",
       "    </tr>\n",
       "    <tr>\n",
       "      <th>5</th>\n",
       "      <td>1</td>\n",
       "      <td>1</td>\n",
       "      <td>1.0</td>\n",
       "      <td>88.0</td>\n",
       "      <td>2.0</td>\n",
       "      <td>4.0</td>\n",
       "      <td>99.0</td>\n",
       "      <td>187.0</td>\n",
       "      <td>511.0</td>\n",
       "      <td>NaN</td>\n",
       "      <td>NaN</td>\n",
       "      <td>2.0</td>\n",
       "      <td>2.0</td>\n",
       "      <td>80</td>\n",
       "      <td>2608.0</td>\n",
       "      <td>7.0</td>\n",
       "    </tr>\n",
       "    <tr>\n",
       "      <th>6</th>\n",
       "      <td>1</td>\n",
       "      <td>2</td>\n",
       "      <td>88.0</td>\n",
       "      <td>88.0</td>\n",
       "      <td>1.0</td>\n",
       "      <td>6.0</td>\n",
       "      <td>8.0</td>\n",
       "      <td>138.0</td>\n",
       "      <td>505.0</td>\n",
       "      <td>35.0</td>\n",
       "      <td>2.0</td>\n",
       "      <td>1.0</td>\n",
       "      <td>1.0</td>\n",
       "      <td>80</td>\n",
       "      <td>2296.0</td>\n",
       "      <td>7.0</td>\n",
       "    </tr>\n",
       "    <tr>\n",
       "      <th>7</th>\n",
       "      <td>1</td>\n",
       "      <td>2</td>\n",
       "      <td>88.0</td>\n",
       "      <td>88.0</td>\n",
       "      <td>2.0</td>\n",
       "      <td>4.0</td>\n",
       "      <td>7.0</td>\n",
       "      <td>162.0</td>\n",
       "      <td>504.0</td>\n",
       "      <td>NaN</td>\n",
       "      <td>NaN</td>\n",
       "      <td>1.0</td>\n",
       "      <td>1.0</td>\n",
       "      <td>80</td>\n",
       "      <td>2781.0</td>\n",
       "      <td>8.0</td>\n",
       "    </tr>\n",
       "    <tr>\n",
       "      <th>8</th>\n",
       "      <td>1</td>\n",
       "      <td>2</td>\n",
       "      <td>88.0</td>\n",
       "      <td>88.0</td>\n",
       "      <td>1.0</td>\n",
       "      <td>6.0</td>\n",
       "      <td>7.0</td>\n",
       "      <td>9999.0</td>\n",
       "      <td>507.0</td>\n",
       "      <td>5.0</td>\n",
       "      <td>NaN</td>\n",
       "      <td>1.0</td>\n",
       "      <td>1.0</td>\n",
       "      <td>78</td>\n",
       "      <td>NaN</td>\n",
       "      <td>6.0</td>\n",
       "    </tr>\n",
       "    <tr>\n",
       "      <th>9</th>\n",
       "      <td>1</td>\n",
       "      <td>2</td>\n",
       "      <td>1.0</td>\n",
       "      <td>88.0</td>\n",
       "      <td>1.0</td>\n",
       "      <td>6.0</td>\n",
       "      <td>7.0</td>\n",
       "      <td>180.0</td>\n",
       "      <td>506.0</td>\n",
       "      <td>NaN</td>\n",
       "      <td>1.0</td>\n",
       "      <td>1.0</td>\n",
       "      <td>1.0</td>\n",
       "      <td>72</td>\n",
       "      <td>2905.0</td>\n",
       "      <td>7.0</td>\n",
       "    </tr>\n",
       "  </tbody>\n",
       "</table>\n",
       "</div>"
      ],
      "text/plain": [
       "   x.state  sexvar  physhlth  menthlth  exerany2  educa  income3  weight2  \\\n",
       "0        1       2      88.0      88.0       2.0    6.0     99.0   9999.0   \n",
       "1        1       2      88.0      88.0       2.0    4.0      5.0    150.0   \n",
       "2        1       2       2.0       3.0       1.0    6.0     10.0    140.0   \n",
       "3        1       2      88.0      88.0       1.0    4.0     77.0    140.0   \n",
       "4        1       2       2.0      88.0       1.0    5.0      5.0    119.0   \n",
       "5        1       1       1.0      88.0       2.0    4.0     99.0    187.0   \n",
       "6        1       2      88.0      88.0       1.0    6.0      8.0    138.0   \n",
       "7        1       2      88.0      88.0       2.0    4.0      7.0    162.0   \n",
       "8        1       2      88.0      88.0       1.0    6.0      7.0   9999.0   \n",
       "9        1       2       1.0      88.0       1.0    6.0      7.0    180.0   \n",
       "\n",
       "   height3  lcsnumcg  avedrnk3  lsatisfy  mscode  x.age80  x.bmi5  sleptim1  \n",
       "0   9999.0       NaN       NaN       1.0     2.0       80     NaN       8.0  \n",
       "1    503.0       NaN       NaN       1.0     5.0       80  2657.0       6.0  \n",
       "2    502.0       NaN       NaN       2.0     2.0       56  2561.0       5.0  \n",
       "3    505.0       2.0       NaN       1.0     1.0       73  2330.0       7.0  \n",
       "4    502.0       NaN       2.0       1.0     1.0       43  2177.0       9.0  \n",
       "5    511.0       NaN       NaN       2.0     2.0       80  2608.0       7.0  \n",
       "6    505.0      35.0       2.0       1.0     1.0       80  2296.0       7.0  \n",
       "7    504.0       NaN       NaN       1.0     1.0       80  2781.0       8.0  \n",
       "8    507.0       5.0       NaN       1.0     1.0       78     NaN       6.0  \n",
       "9    506.0       NaN       1.0       1.0     1.0       72  2905.0       7.0  "
      ]
     },
     "execution_count": 84,
     "metadata": {},
     "output_type": "execute_result"
    }
   ],
   "source": [
    "df.head(10)"
   ]
  },
  {
   "cell_type": "code",
   "execution_count": 85,
   "id": "d2e54e5e-659f-4b9c-afc2-d399b8289279",
   "metadata": {},
   "outputs": [
    {
     "name": "stdout",
     "output_type": "stream",
     "text": [
      "<class 'pandas.core.frame.DataFrame'>\n",
      "Index: 390991 entries, 0 to 399999\n",
      "Data columns (total 16 columns):\n",
      " #   Column    Non-Null Count   Dtype  \n",
      "---  ------    --------------   -----  \n",
      " 0   x.state   390991 non-null  int64  \n",
      " 1   sexvar    390991 non-null  int64  \n",
      " 2   physhlth  381995 non-null  float64\n",
      " 3   menthlth  383613 non-null  float64\n",
      " 4   exerany2  390125 non-null  float64\n",
      " 5   educa     389091 non-null  float64\n",
      " 6   income3   307287 non-null  float64\n",
      " 7   weight2   360964 non-null  float64\n",
      " 8   height3   369448 non-null  float64\n",
      " 9   lcsnumcg  132229 non-null  float64\n",
      " 10  avedrnk3  184518 non-null  float64\n",
      " 11  lsatisfy  209679 non-null  float64\n",
      " 12  mscode    85090 non-null   float64\n",
      " 13  x.age80   390991 non-null  int64  \n",
      " 14  x.bmi5    348283 non-null  float64\n",
      " 15  sleptim1  390991 non-null  float64\n",
      "dtypes: float64(13), int64(3)\n",
      "memory usage: 50.7 MB\n"
     ]
    }
   ],
   "source": [
    "#clean up physhlth\n",
    "df.loc[df['physhlth']==88, 'physhlth'] = 0\n",
    "df.loc[df['physhlth']==77, 'physhlth'] = np.nan\n",
    "df.loc[df['physhlth']==99, 'physhlth'] = np.nan\n",
    "\n",
    "#clean up menthlth\n",
    "df.loc[df['menthlth']==88, 'menthlth'] = 0\n",
    "df.loc[df['menthlth']==77, 'menthlth'] = np.nan\n",
    "df.loc[df['menthlth']==99, 'menthlth'] = np.nan\n",
    "\n",
    "#clean up exerany2\n",
    "df.loc[df['exerany2']==7, 'exerany2'] = np.nan\n",
    "df.loc[df['exerany2']==9, 'exerany2'] = np.nan\n",
    "\n",
    "#clean up educa\n",
    "df.loc[df['educa']==9, 'educa'] = np.nan\n",
    "\n",
    "#clean up income3\n",
    "df.loc[df['income3']==77, 'income3'] = np.nan\n",
    "df.loc[df['income3']==99, 'income3'] = np.nan\n",
    "\n",
    "#clean up weight2 -need unit converting\n",
    "df.loc[df['weight2']==9999, 'weight2'] = np.nan\n",
    "\n",
    "\n",
    "#clean up height3 -need unit converting\n",
    "df.loc[df['height3']==9999, 'height3'] = np.nan\n",
    "\n",
    "#clean up lcsnumcg\n",
    "df.loc[df['lcsnumcg']==777, 'lcsnumcg'] = np.nan\n",
    "df.loc[df['lcsnumcg']==999, 'lcsnumcg'] = np.nan\n",
    "\n",
    "#clean up avedrnk3\n",
    "df.loc[df['avedrnk3']==88, 'avedrnk3'] = 0\n",
    "df.loc[df['avedrnk3']==77, 'avedrnk3'] = np.nan\n",
    "df.loc[df['avedrnk3']==99, 'avedrnk3'] = np.nan\n",
    "\n",
    "#clean up lsatisfy\n",
    "df.loc[df['lsatisfy']==7, 'lsatisfy'] = np.nan\n",
    "df.loc[df['lsatisfy']==9, 'lsatisfy'] = np.nan\n",
    "\n",
    "#clean up mscode\n",
    "\n",
    "#clean up x.age80\n",
    "\n",
    "#clean up x.bmi5\n",
    "\n",
    "#clean up sleptim1\n",
    "df.loc[df['sleptim1']==77, 'sleptim1'] = np.nan\n",
    "df.loc[df['sleptim1']==99, 'sleptim1'] = np.nan\n",
    "df = df[df['sleptim1']<12]\n",
    "\n",
    "df.info()"
   ]
  },
  {
   "cell_type": "code",
   "execution_count": 86,
   "id": "fb03ec93-0375-4a76-b948-0672333f6ccb",
   "metadata": {},
   "outputs": [
    {
     "name": "stdout",
     "output_type": "stream",
     "text": [
      "{'x.state': 0.007663801493071298, 'sexvar': 0.018382682875215883, 'physhlth': -0.10632346417231918, 'menthlth': -0.17802916332929028, 'exerany2': -0.033540998545118675, 'educa': 0.04608535748342956, 'income3': 0.04534914107715744, 'weight2': -0.009211764148224503, 'height3': 0.013888278195643504, 'lcsnumcg': -0.0010981985175865917, 'avedrnk3': -0.06878873755701224, 'lsatisfy': -0.1458739126380269, 'mscode': 0.011904786816786875, 'x.age80': 0.11782993453112763, 'x.bmi5': -0.06875074411297921, 'sleptim1': 0.9999999999999999}\n"
     ]
    }
   ],
   "source": [
    "cols = ['x.state', 'sexvar', 'physhlth', 'menthlth', 'exerany2', 'educa', 'income3', 'weight2', 'height3', 'lcsnumcg', 'avedrnk3', 'lsatisfy', 'mscode', 'x.age80', 'x.bmi5', 'sleptim1']\n",
    "correlation_coefficients = {}\n",
    "for col in cols:\n",
    "    correlation_coefficients[col] = df[col].corr(df['sleptim1'])\n",
    "        \n",
    "print(correlation_coefficients)"
   ]
  },
  {
   "cell_type": "code",
   "execution_count": 87,
   "id": "6af98bb4-8a45-4dde-b2aa-fbe92eb4eacc",
   "metadata": {},
   "outputs": [
    {
     "data": {
      "text/plain": [
       "array([[<Axes: title={'center': 'sleptim1'}>]], dtype=object)"
      ]
     },
     "execution_count": 87,
     "metadata": {},
     "output_type": "execute_result"
    },
    {
     "data": {
      "image/png": "[encoded data removed]",
      "text/plain": [
       "<Figure size 640x480 with 1 Axes>"
      ]
     },
     "metadata": {},
     "output_type": "display_data"
    }
   ],
   "source": [
    "bin_range = (1,12)\n",
    "df.hist(column = [\"sleptim1\"], bins = 12, range = bin_range)"
   ]
  },
  {
   "cell_type": "code",
   "execution_count": 88,
   "id": "bbf90ea8-7c86-422f-8c0a-f979b8e33b4a",
   "metadata": {},
   "outputs": [],
   "source": [
    "c6= df[df['sleptim1']==6]\n",
    "c7= df[df['sleptim1']==7]\n",
    "c8= df[df['sleptim1']==8]\n",
    "c_min = df[(df.sleptim1!=8) & (df.sleptim1!=7) & (df.sleptim1!=6)]\n",
    "df_6 = c6.sample(30000)\n",
    "df_7 = c7.sample(30000)\n",
    "df_8 = c8.sample(30000)\n",
    "undersampled_df = pd.concat([df_6,df_7,df_8, c_min],axis=0)"
   ]
  },
  {
   "cell_type": "code",
   "execution_count": 89,
   "id": "1a7888de-1e6d-4965-b4c1-bd1643fa3878",
   "metadata": {},
   "outputs": [
    {
     "data": {
      "text/plain": [
       "array([[<Axes: title={'center': 'sleptim1'}>]], dtype=object)"
      ]
     },
     "execution_count": 89,
     "metadata": {},
     "output_type": "execute_result"
    },
    {
     "data": {
      "image/png": "[encoded data removed]",
      "text/plain": [
       "<Figure size 640x480 with 1 Axes>"
      ]
     },
     "metadata": {},
     "output_type": "display_data"
    }
   ],
   "source": [
    "bin_range = (1,24)\n",
    "undersampled_df.hist(column = [\"sleptim1\"], bins = 24, range = bin_range)"
   ]
  },
  {
   "cell_type": "code",
   "execution_count": 90,
   "id": "78624834-e08f-4109-91b1-dce51e9301b5",
   "metadata": {},
   "outputs": [
    {
     "name": "stdout",
     "output_type": "stream",
     "text": [
      "sleptim1\n",
      "7.0     119529\n",
      "8.0     112797\n",
      "6.0      85989\n",
      "5.0      26984\n",
      "9.0      19104\n",
      "4.0      11151\n",
      "10.0      9440\n",
      "3.0       2936\n",
      "2.0       1407\n",
      "1.0       1035\n",
      "11.0       619\n",
      "Name: count, dtype: int64\n"
     ]
    }
   ],
   "source": [
    "print(df['sleptim1'].value_counts())"
   ]
  },
  {
   "cell_type": "code",
   "execution_count": 91,
   "id": "680fcc0d-a3a6-4c23-8c43-2654e20e1f42",
   "metadata": {},
   "outputs": [
    {
     "name": "stdout",
     "output_type": "stream",
     "text": [
      "{'x.state': 0.008229174256434369, 'sexvar': 0.022814043200952944, 'physhlth': -0.12703310042579685, 'menthlth': -0.20341303157823679, 'exerany2': -0.03908006802897072, 'educa': 0.06641759472565496, 'income3': 0.06602559718087056, 'weight2': -0.019531201456209454, 'height3': 0.00819476942293242, 'lcsnumcg': -0.003156966044435395, 'avedrnk3': -0.08358819891229272, 'lsatisfy': -0.171205322288539, 'mscode': 0.010921703447604006, 'x.age80': 0.1471824123142517, 'x.bmi5': -0.07487265548997084, 'sleptim1': 1.0}\n"
     ]
    }
   ],
   "source": [
    "cols = ['x.state', 'sexvar', 'physhlth', 'menthlth', 'exerany2', 'educa', 'income3', 'weight2', 'height3', 'lcsnumcg', 'avedrnk3', 'lsatisfy', 'mscode', 'x.age80', 'x.bmi5', 'sleptim1']\n",
    "correlation_coefficients = {}\n",
    "for col in cols:\n",
    "    correlation_coefficients[col] = undersampled_df[col].corr(undersampled_df['sleptim1'])\n",
    "        \n",
    "print(correlation_coefficients)"
   ]
  },
  {
   "cell_type": "code",
   "execution_count": 92,
   "id": "44fb068d-f70c-4487-8c96-f7c9a06c8bfe",
   "metadata": {},
   "outputs": [
    {
     "data": {
      "text/plain": [
       "<Axes: xlabel='menthlth', ylabel='sleptim1'>"
      ]
     },
     "execution_count": 92,
     "metadata": {},
     "output_type": "execute_result"
    },
    {
     "data": {
      "image/png": "[encoded data removed]",
      "text/plain": [
       "<Figure size 640x480 with 1 Axes>"
      ]
     },
     "metadata": {},
     "output_type": "display_data"
    }
   ],
   "source": [
    "undersampled_df.plot.scatter(x='menthlth', y = 'sleptim1')"
   ]
  },
  {
   "cell_type": "code",
   "execution_count": null,
   "id": "8ed0dee7-6398-4e81-aecd-6df5f9cb4f33",
   "metadata": {},
   "outputs": [],
   "source": []
  }
 ],
 "metadata": {
  "kernelspec": {
   "display_name": "Python 3 (ipykernel)",
   "language": "python",
   "name": "python3"
  },
  "language_info": {
   "codemirror_mode": {
    "name": "ipython",
    "version": 3
   },
   "file_extension": ".py",
   "mimetype": "text/x-python",
   "name": "python",
   "nbconvert_exporter": "python",
   "pygments_lexer": "ipython3",
   "version": "3.11.0"
  }
 },
 "nbformat": 4,
 "nbformat_minor": 5
}
