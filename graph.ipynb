{
 "cells": [
  {
   "cell_type": "code",
   "execution_count": null,
   "id": "dd130393-5a93-4fd5-ba9a-75d6ce78ca16",
   "metadata": {},
   "outputs": [],
   "source": [
    "import pandas as pd\n",
    "import numpy as np\n",
    "import matplotlib.pyplot as plt\n",
    "import seaborn as sns\n",
    "# skiprows = 10\n",
    "# nrows = 20\n",
    "cols = ['x.state', #state\n",
    "        'sexvar', #sex\n",
    "        'physhlth', # number of days physical health is not good(per month)\n",
    "        'menthlth', # number of days mental health is not good(per month)\n",
    "        'exerany2', # Exercise in Past 30 Days   \n",
    "        'cvdinfr4', # Ever Diagnosed with Heart Attack\n",
    "        'cvdcrhd4', #Ever Diagnosed with Angina or Coronary Heart Disease\n",
    "        'cvdstrk3', #Ever Diagnosed with a Stroke\n",
    "        'asthma3', #Ever Told Had Asthma\n",
    "        'asthnow', #Still Have Asthma\n",
    "        'addepev3', #(Ever told) you had a depressive disorder\n",
    "        'chckdny2', #Ever told you have kidney disease?\n",
    "        'havarth4', #Told Had Arthritis\n",
    "        'diabete4', #(Ever told) you had diabetes\n",
    "        'educa', # eudcation level\n",
    "        'income3', # income level \n",
    "        'weight2', # reported weight in pounds\n",
    "        'height3', # reported height in feet and inches \n",
    "        'lcsnumcg', # how many cigarettes do you smoke each day?\n",
    "        'avedrnk3', # Avg alcoholic drinks per day in past 30\n",
    "        'lsatisfy', # satisfaction with life\n",
    "        'emtsuprt', # How often get emotional support needed\n",
    "        'sdhisolt', #How often do you feel socially isolated from others?\n",
    "        'mscode', # Metropolitan Status Code\n",
    "        'x.age80', # Imputed Age value collapsed above 80\n",
    "        'x.bmi5', # Computed body mass index \n",
    "        'sleptim1'# sleep time       \n",
    "       ]\n",
    "df = pd.read_csv(\"brfss2022.csv\")\n",
    "df = df[cols]\n",
    "df.info()"
   ]
  },
  {
   "cell_type": "code",
   "execution_count": null,
   "id": "2bed3530-1a98-4cab-ba19-ce2086adba62",
   "metadata": {},
   "outputs": [],
   "source": [
    "print(df['x.state'].value_counts())"
   ]
  },
  {
   "cell_type": "code",
   "execution_count": null,
   "id": "613c6ebd-880f-4cd8-ac6b-8be42315c858",
   "metadata": {},
   "outputs": [],
   "source": [
    "#clean up sleptim1\n",
    "df.loc[df['sleptim1']==77, 'sleptim1'] = np.nan\n",
    "df.loc[df['sleptim1']==99, 'sleptim1'] = np.nan\n",
    "df_sleptime_by_State = df.groupby('x.state', as_index=False)['sleptim1'].mean()\n",
    "df_sleptime_by_State = df_sleptime_by_State.sort_values(by = 'sleptim1', ascending=True)\n",
    "\n",
    "print(df_sleptime_by_State)"
   ]
  },
  {
   "cell_type": "code",
   "execution_count": null,
   "id": "fb35122c-1e4e-41ec-b2ac-c98ebfe82dc2",
   "metadata": {},
   "outputs": [],
   "source": [
    "#bottom 3\n",
    "df_Guam = df[df['x.state']==66]\n",
    "df_Hawaii = df[df['x.state']==15]\n",
    "df_Kentucky = df[df['x.state']==21]\n",
    "\n",
    "#top 3\n",
    "df_Wyoming = df[df['x.state']==56]\n",
    "df_Nebraska = df[df['x.state']==31]\n",
    "df_Montana = df[df['x.state']==30]\n",
    "\n",
    "#most population\n",
    "df_California = df[df['x.state']==6]\n",
    "df_New_York = df[df['x.state']==36]\n",
    "\n",
    "# df_boxPlot = pd.DataFrame([df_Guam, df_Hawaii, df_Kentucky, df_Wyoming, df_Nebraska, df_Montana, df_California, df_New_York])\n",
    "plt.figure(figsize=(8, 6))\n",
    "\n",
    "data = pd.DataFrame({\n",
    "    'Guam': df_Guam['sleptim1'], \n",
    "    'Hawaii': df_Hawaii['sleptim1'], \n",
    "    'Kentucky': df_Kentucky['sleptim1'], \n",
    "    'Wyoming': df_Wyoming['sleptim1'], \n",
    "    'Nebraska': df_Nebraska['sleptim1'], \n",
    "    'Montana': df_Montana['sleptim1'], \n",
    "    'California': df_California['sleptim1'], \n",
    "    'New_York': df_New_York['sleptim1']})\n",
    "\n",
    "ax = data.plot(kind='bar', title='boxplot')\n",
    "# sns.boxplot(data=data)\n",
    "plt.show()"
   ]
  },
  {
   "cell_type": "code",
   "execution_count": null,
   "id": "8dffef95-9a02-48fc-8115-3146c3ab562e",
   "metadata": {},
   "outputs": [],
   "source": []
  },
  {
   "cell_type": "code",
   "execution_count": null,
   "id": "13065cb3-fbad-40f1-9106-68945a1f1309",
   "metadata": {},
   "outputs": [],
   "source": []
  }
 ],
 "metadata": {
  "kernelspec": {
   "display_name": "Python 3 (ipykernel)",
   "language": "python",
   "name": "python3"
  },
  "language_info": {
   "codemirror_mode": {
    "name": "ipython",
    "version": 3
   },
   "file_extension": ".py",
   "mimetype": "text/x-python",
   "name": "python",
   "nbconvert_exporter": "python",
   "pygments_lexer": "ipython3",
   "version": "3.11.0"
  }
 },
 "nbformat": 4,
 "nbformat_minor": 5
}
