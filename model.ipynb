{
 "cells": [
  {
   "cell_type": "code",
   "execution_count": 19,
   "id": "f754d2a2-05bc-4fff-bf5e-6f1ca98b7ff3",
   "metadata": {},
   "outputs": [],
   "source": [
    "import pandas as pd\n",
    "import numpy as np\n",
    "import matplotlib.pyplot as plt\n",
    "import seaborn as sb \n",
    "from sklearn.impute import SimpleImputer\n",
    "\n",
    "cols = [\n",
    "        #basic attributes\n",
    "        'x.state', #state\n",
    "        'sexvar', #sex\n",
    "        'exerany2', # Exercise in Past 30 Days   \n",
    "        'educa', # eudcation level\n",
    "        'x.incomg1', # income level \n",
    "        'income3', # income level \n",
    "        'x.age80', # Imputed Age value collapsed above 80\n",
    "        'x.age.g',# Imputed Age groups\n",
    "        'x.bmi5', # Computed body mass index\n",
    "        'sleptim1',# sleep time\n",
    "\n",
    "        #mental/physical health\n",
    "        'physhlth', # number of days physical health is not good(per month)\n",
    "        'menthlth', # number of days mental health is not good(per month)\n",
    "\n",
    "        #disease\n",
    "        'cvdinfr4', # Ever Diagnosed with Heart Attack\n",
    "        'cvdcrhd4', #Ever Diagnosed with Angina or Coronary Heart Disease\n",
    "        'cvdstrk3', #Ever Diagnosed with a Stroke\n",
    "        'asthma3', #Ever Told Had Asthma\n",
    "        'asthnow', #Still Have Asthma\n",
    "        'addepev3', #(Ever told) you had a depressive disorder\n",
    "        'chckdny2', #Ever told you have kidney disease?\n",
    "        'havarth4', #Told Had Arthritis\n",
    "        'diabete4', #(Ever told) you had diabetes\n",
    "\n",
    "\n",
    "        #tobacco/alcohol\n",
    "        'smokday2', # Do you now smoke cigarettes every day, some days, or not at all?\n",
    "        'usenow3', # Do you use Smokeless Tobacco Products chewing tobacco, snuff, or snus\n",
    "        'ecignow2', #  Do you now use e-cigarettes, or vaping products every day, some days, or not at all?\n",
    "        'avedrnk3', # Avg alcoholic drinks per day in past 30\n",
    "        'marijan1', # During the past 30 days, on how many days did you use marijuana or hashish?\n",
    "        'marjsmok', # Did you smoke marijuana or cannabis?\n",
    "        'x.drnkwk2', #Computed number of drinks of alcohol beverages per week\n",
    "        'drocdy4.', #Computed drink-occasions-per-day\n",
    "\n",
    "        #life satisfaction\n",
    "        'lsatisfy', # satisfaction with life\n",
    "        'sdhstre1', #How often have you felt general stress?\n",
    "       ]\n",
    "df = pd.read_csv(\"brfss2022.csv\")\n",
    "df = df[cols]"
   ]
  },
  {
   "cell_type": "code",
   "execution_count": 20,
   "id": "f9b740ef-8aff-4198-a42a-0dfa03a8c35e",
   "metadata": {},
   "outputs": [],
   "source": [
    "cols = [\n",
    "        #basic attributes\n",
    "        'x.state', #state\n",
    "        'sexvar', #sex\n",
    "        'exerany2', # Exercise in Past 30 Days   \n",
    "        'educa', # eudcation level\n",
    "        'x.incomg1', # income level \n",
    "        'income3', # income level \n",
    "        'x.age80', # Imputed Age value collapsed above 80\n",
    "        'x.age.g',# Imputed Age groups\n",
    "        'x.bmi5', # Computed body mass index\n",
    "        'sleptim1',# sleep time\n",
    "\n",
    "        #mental/physical health\n",
    "        'physhlth', # number of days physical health is not good(per month)\n",
    "        'menthlth', # number of days mental health is not good(per month)\n",
    "\n",
    "        #disease\n",
    "        'cvdinfr4', # Ever Diagnosed with Heart Attack\n",
    "        'cvdcrhd4', #Ever Diagnosed with Angina or Coronary Heart Disease\n",
    "        'cvdstrk3', #Ever Diagnosed with a Stroke\n",
    "        'asthma3', #Ever Told Had Asthma\n",
    "        'asthnow', #Still Have Asthma\n",
    "        'addepev3', #(Ever told) you had a depressive disorder\n",
    "        'chckdny2', #Ever told you have kidney disease?\n",
    "        'havarth4', #Told Had Arthritis\n",
    "        'diabete4', #(Ever told) you had diabetes\n",
    "\n",
    "\n",
    "        #tobacco/alcohol\n",
    "        'smokday2', # Do you now smoke cigarettes every day, some days, or not at all?\n",
    "        'usenow3', # Do you use Smokeless Tobacco Products chewing tobacco, snuff, or snus\n",
    "        'ecignow2', #  Do you now use e-cigarettes, or vaping products every day, some days, or not at all?\n",
    "        'avedrnk3', # Avg alcoholic drinks per day in past 30\n",
    "        'marijan1', # During the past 30 days, on how many days did you use marijuana or hashish?\n",
    "        'marjsmok', # Did you smoke marijuana or cannabis?\n",
    "        'x.drnkwk2', #Computed number of drinks of alcohol beverages per week\n",
    "        'drocdy4.', #Computed drink-occasions-per-day\n",
    "\n",
    "        #life satisfaction\n",
    "        'lsatisfy', # satisfaction with life\n",
    "        'sdhstre1', #How often have you felt general stress?\n",
    "       ]\n",
    "\n",
    "#clean up physhlth\n",
    "df.loc[df['physhlth']==88, 'physhlth'] = 0\n",
    "df.loc[df['physhlth']==77, 'physhlth'] = np.nan\n",
    "df.loc[df['physhlth']==99, 'physhlth'] = np.nan\n",
    "\n",
    "#clean up menthlth\n",
    "df.loc[df['menthlth']==88, 'menthlth'] = 0\n",
    "df.loc[df['menthlth']==77, 'menthlth'] = np.nan\n",
    "df.loc[df['menthlth']==99, 'menthlth'] = np.nan\n",
    "\n",
    "#binary answer: yes = 1, no = 2\n",
    "#clean up exerany2\n",
    "df.loc[df['exerany2']==7, 'exerany2'] = np.nan\n",
    "df.loc[df['exerany2']==9, 'exerany2'] = np.nan\n",
    "df['exerany2'] = df['exerany2'].apply(lambda x : -x+2)#reversing the numerical ordering\n",
    "\n",
    "#clean up cvdinfr4\n",
    "df.loc[df['cvdinfr4']==7, 'cvdinfr4'] = np.nan\n",
    "df.loc[df['cvdinfr4']==9, 'cvdinfr4'] = np.nan\n",
    "df['cvdinfr4'] = df['cvdinfr4'].apply(lambda x : -x+2)\n",
    "\n",
    "#clean up cvdcrhd4\n",
    "df.loc[df['cvdcrhd4']==7, 'cvdcrhd4'] = np.nan\n",
    "df.loc[df['cvdcrhd4']==9, 'cvdcrhd4'] = np.nan\n",
    "df['cvdcrhd4'] = df['cvdcrhd4'].apply(lambda x : -x+2)\n",
    "\n",
    "#clean up cvdstrk3\n",
    "df.loc[df['cvdstrk3']==7, 'cvdstrk3'] = np.nan\n",
    "df.loc[df['cvdstrk3']==9, 'cvdstrk3'] = np.nan\n",
    "df['cvdstrk3'] = df['cvdstrk3'].apply(lambda x : -x+2)\n",
    "\n",
    "#clean up asthma3\n",
    "df.loc[df['asthma3']==7, 'asthma3'] = np.nan\n",
    "df.loc[df['asthma3']==9, 'asthma3'] = np.nan\n",
    "df['asthma3'] = df['asthma3'].apply(lambda x : -x+2)\n",
    "\n",
    "#clean up addepev3\n",
    "df.loc[df['addepev3']==7, 'addepev3'] = np.nan\n",
    "df.loc[df['addepev3']==9, 'addepev3'] = np.nan\n",
    "df['addepev3'] = df['addepev3'].apply(lambda x : -x+2)\n",
    "\n",
    "#clean up chckdny2\n",
    "df.loc[df['chckdny2']==7, 'chckdny2'] = np.nan\n",
    "df.loc[df['chckdny2']==9, 'chckdny2'] = np.nan\n",
    "df['chckdny2'] = df['chckdny2'].apply(lambda x : -x+2)\n",
    "\n",
    "#clean up havarth4\n",
    "df.loc[df['havarth4']==7, 'havarth4'] = np.nan\n",
    "df.loc[df['havarth4']==9, 'havarth4'] = np.nan\n",
    "df['havarth4'] = df['havarth4'].apply(lambda x : -x+2)\n",
    "\n",
    "# #clean up diabete4\n",
    "df.loc[df['diabete4']==2, 'diabete4'] = np.nan\n",
    "df.loc[df['diabete4']==3, 'diabete4'] = 2\n",
    "df.loc[df['diabete4']==4, 'diabete4'] = np.nan\n",
    "df.loc[df['diabete4']==7, 'diabete4'] = np.nan\n",
    "df.loc[df['diabete4']==9, 'diabete4'] = np.nan\n",
    "df['diabete4'] = df['diabete4'].apply(lambda x : -x+2)\n",
    "\n",
    "#clean up educa\n",
    "df.loc[df['educa']==9, 'educa'] = np.nan\n",
    "\n",
    "#clean up income3\n",
    "df.loc[df['income3']==77, 'income3'] = np.nan\n",
    "df.loc[df['income3']==99, 'income3'] = np.nan\n",
    "\n",
    "#clean up x.incomg1\n",
    "df.loc[df['x.incomg1']== 9, 'x.incomg1'] = np.nan\n",
    "\n",
    "#clean up avedrnk3\n",
    "df.loc[df['avedrnk3']==88, 'avedrnk3'] = 0\n",
    "df.loc[df['avedrnk3']==77, 'avedrnk3'] = np.nan\n",
    "df.loc[df['avedrnk3']==99, 'avedrnk3'] = np.nan\n",
    "\n",
    "#clean up marijan1\n",
    "df.loc[df['marijan1']==88, 'marijan1'] = 0\n",
    "df.loc[df['marijan1']==77, 'marijan1'] = np.nan\n",
    "df.loc[df['marijan1']==99, 'marijan1'] = np.nan\n",
    "\n",
    "#clean up marjsmok\n",
    "df.loc[df['marjsmok']==7, 'marjsmok'] = np.nan\n",
    "df.loc[df['marjsmok']==9, 'marjsmok'] = np.nan\n",
    "\n",
    "#clean up lsatisfy\n",
    "df.loc[df['lsatisfy']==7, 'lsatisfy'] = np.nan\n",
    "df.loc[df['lsatisfy']==9, 'lsatisfy'] = np.nan\n",
    "df['lsatisfy'] = df['lsatisfy'].apply(lambda x : -x+4)\n",
    "\n",
    "#'sdhstre1', #How often have you felt general stress?\n",
    "df.loc[df['sdhstre1']==7, 'sdhstre1'] = np.nan\n",
    "df.loc[df['sdhstre1']==9, 'sdhstre1'] = np.nan\n",
    "df['sdhstre1'] = df['sdhstre1'].apply(lambda x : -x+5)\n",
    "\n",
    "#clean up smokday2\n",
    "df.loc[df['smokday2']==9, 'smokday2'] = np.nan\n",
    "df.loc[df['smokday2']==7, 'smokday2'] = np.nan\n",
    "df['smokday2'] = df['smokday2'].apply(lambda x : -x+3)\n",
    "\n",
    "#clean up x.drnkwk2\n",
    "df.loc[df['x.drnkwk2']==99900, 'x.drnkwk2'] = np.nan\n",
    "\n",
    "#clean up drocdy4.\n",
    "df.loc[df['drocdy4.']==900, 'drocdy4.'] = np.nan\n",
    "\n",
    "#clean up ecignow2\n",
    "df.loc[df['ecignow2']==4, 'ecignow2'] = 1\n",
    "df.loc[df['ecignow2']==2, 'ecignow2'] = 10\n",
    "df.loc[df['ecignow2']==3, 'ecignow2'] = 2\n",
    "df.loc[df['ecignow2']==10, 'ecignow2'] = 3\n",
    "df.loc[df['ecignow2']==7, 'ecignow2'] = np.nan\n",
    "df.loc[df['ecignow2']==8, 'ecignow2'] = np.nan\n",
    "\n",
    "#clean up sleptim1\n",
    "df.loc[df['sleptim1']==77, 'sleptim1'] = np.nan\n",
    "df.loc[df['sleptim1']==99, 'sleptim1'] = np.nan\n",
    "\n",
    "# #removing sleep time outliers\n",
    "# df[df['sleptim1']>15] = np.nan\n",
    "# df[df['sleptim1']< 3 ] = np.nan"
   ]
  },
  {
   "cell_type": "code",
   "execution_count": 21,
   "id": "95c62f0a-46cc-44e7-8f00-be1147b05f6a",
   "metadata": {},
   "outputs": [
    {
     "data": {
      "text/plain": [
       "{'whiskers': [<matplotlib.lines.Line2D at 0x204e1702b50>,\n",
       "  <matplotlib.lines.Line2D at 0x204e1701950>],\n",
       " 'caps': [<matplotlib.lines.Line2D at 0x204e1700650>,\n",
       "  <matplotlib.lines.Line2D at 0x204e17003d0>],\n",
       " 'boxes': [<matplotlib.lines.Line2D at 0x204e1813a50>],\n",
       " 'medians': [<matplotlib.lines.Line2D at 0x204e155cc90>],\n",
       " 'fliers': [<matplotlib.lines.Line2D at 0x204e155ef90>],\n",
       " 'means': []}"
      ]
     },
     "execution_count": 21,
     "metadata": {},
     "output_type": "execute_result"
    },
    {
     "data": {
      "image/png": "[encoded data removed]",
      "text/plain": [
       "<Figure size 640x480 with 1 Axes>"
      ]
     },
     "metadata": {},
     "output_type": "display_data"
    }
   ],
   "source": [
    "# Create a box plot\n",
    "df = df.dropna(subset=['sleptim1'])\n",
    "plt.boxplot(df['sleptim1'])"
   ]
  },
  {
   "cell_type": "code",
   "execution_count": 22,
   "id": "1f81b763-0bd2-420b-bf77-6a9d375fae1b",
   "metadata": {},
   "outputs": [
    {
     "data": {
      "text/plain": [
       "{'whiskers': [<matplotlib.lines.Line2D at 0x20505249ad0>,\n",
       "  <matplotlib.lines.Line2D at 0x2050524a490>],\n",
       " 'caps': [<matplotlib.lines.Line2D at 0x2050524add0>,\n",
       "  <matplotlib.lines.Line2D at 0x2050524b710>],\n",
       " 'boxes': [<matplotlib.lines.Line2D at 0x20503ab7710>],\n",
       " 'medians': [<matplotlib.lines.Line2D at 0x2050524bf90>],\n",
       " 'fliers': [<matplotlib.lines.Line2D at 0x20505240910>],\n",
       " 'means': []}"
      ]
     },
     "execution_count": 22,
     "metadata": {},
     "output_type": "execute_result"
    },
    {
     "data": {
      "image/png": "[encoded data removed]",
      "text/plain": [
       "<Figure size 640x480 with 1 Axes>"
      ]
     },
     "metadata": {},
     "output_type": "display_data"
    }
   ],
   "source": [
    "def remove_outliers_iqr(dataframe, column_name):\n",
    "    \"\"\"\n",
    "    Remove outliers from a DataFrame based on the interquartile range (IQR) method.\n",
    "    \"\"\"\n",
    "    Q1 = dataframe[column_name].quantile(0.25)\n",
    "    Q3 = dataframe[column_name].quantile(0.75)\n",
    "    IQR = Q3 - Q1\n",
    "    \n",
    "    # Create a mask for values beyond the IQR\n",
    "    outlier_mask = (dataframe[column_name] < Q1 - 1.5 * IQR) | (dataframe[column_name] > Q3 + 1.5 * IQR)\n",
    "    \n",
    "    # Remove outliers\n",
    "    df = dataframe[~outlier_mask]\n",
    "    \n",
    "    return dataframe\n",
    "\n",
    "# Remove outliers using the IQR method\n",
    "df = remove_outliers_iqr(df, 'sleptim1')\n",
    "plt.boxplot(df['sleptim1'])"
   ]
  },
  {
   "cell_type": "code",
   "execution_count": 23,
   "id": "c78c7739-f1f9-4784-a37f-94b876576fb1",
   "metadata": {},
   "outputs": [],
   "source": [
    "df['bad_sleep'] = [np.nan]*len(df['sleptim1'])\n",
    "\n",
    "for ind, val in df['sleptim1'].items():\n",
    "    if val <= 6:\n",
    "        df.at[ind, 'bad_sleep'] = 1\n",
    "    elif (val > 6 and val <= 9):\n",
    "        df.at[ind, 'bad_sleep'] = 0\n",
    "    elif (val >= 10):\n",
    "        df.at[ind, 'bad_sleep'] = 1"
   ]
  },
  {
   "cell_type": "code",
   "execution_count": 24,
   "id": "d59a1492-4110-46c4-8f71-cc058725524b",
   "metadata": {},
   "outputs": [
    {
     "data": {
      "text/plain": [
       "bad_sleep\n",
       "0.0    279579\n",
       "1.0    160100\n",
       "Name: count, dtype: int64"
      ]
     },
     "execution_count": 24,
     "metadata": {},
     "output_type": "execute_result"
    }
   ],
   "source": [
    "df['bad_sleep'].value_counts()"
   ]
  },
  {
   "cell_type": "code",
   "execution_count": 25,
   "id": "f5066927-b5dc-473c-b44a-2fc0271260b4",
   "metadata": {},
   "outputs": [
    {
     "name": "stdout",
     "output_type": "stream",
     "text": [
      "<class 'pandas.core.frame.DataFrame'>\n",
      "Index: 439679 entries, 0 to 445131\n",
      "Data columns (total 15 columns):\n",
      " #   Column     Non-Null Count   Dtype  \n",
      "---  ------     --------------   -----  \n",
      " 0   x.state    439679 non-null  int64  \n",
      " 1   sexvar     439679 non-null  int64  \n",
      " 2   educa      437536 non-null  float64\n",
      " 3   x.age.g    439679 non-null  int64  \n",
      " 4   physhlth   429593 non-null  float64\n",
      " 5   menthlth   431370 non-null  float64\n",
      " 6   exerany2   438735 non-null  float64\n",
      " 7   cvdinfr4   436871 non-null  float64\n",
      " 8   cvdcrhd4   435574 non-null  float64\n",
      " 9   cvdstrk3   438282 non-null  float64\n",
      " 10  diabete4   424821 non-null  float64\n",
      " 11  addepev3   437097 non-null  float64\n",
      " 12  lsatisfy   248680 non-null  float64\n",
      " 13  sdhstre1   246698 non-null  float64\n",
      " 14  bad_sleep  439679 non-null  float64\n",
      "dtypes: float64(12), int64(3)\n",
      "memory usage: 69.8 MB\n"
     ]
    }
   ],
   "source": [
    "cols = [\n",
    "        'x.state', #state\n",
    "        'sexvar', #sex\n",
    "        'educa', # eudcation level\n",
    "        #'income3', # income level \n",
    "        #'x.age80', # Imputed Age value collapsed above 80\n",
    "        'x.age.g',\n",
    "        #'x.bmi5', # Computed body mass index\n",
    "        'physhlth', # number of days physical health is not good(per month)\n",
    "        'menthlth', # number of days mental health is not good(per month)\n",
    "        'exerany2', # Exercise in Past 30 Days\n",
    "        'cvdinfr4', # Ever Diagnosed with Heart Attack\n",
    "        'cvdcrhd4', #Ever Diagnosed with Angina or Coronary Heart Disease\n",
    "        'cvdstrk3',\n",
    "        'diabete4', #(Ever told) you had diabetes\n",
    "        'addepev3', #(Ever told) you had a depressive disorder\n",
    "        #'smokday2', # Do you now smoke cigarettes every day, some days, or not at all?\n",
    "        #'avedrnk3', # Avg alcoholic drinks per day in past 30\n",
    "        'lsatisfy', # satisfaction with life\n",
    "        'sdhstre1', #How often have you felt general stress?\n",
    "        'bad_sleep',\n",
    "       ]\n",
    "\n",
    "df = df[cols]\n",
    "df.info()"
   ]
  },
  {
   "cell_type": "code",
   "execution_count": 26,
   "id": "5ff21d20-01a4-4e4f-8003-5bc924208814",
   "metadata": {},
   "outputs": [
    {
     "data": {
      "text/plain": [
       "bad_sleep\n",
       "0.0    279579\n",
       "1.0    160100\n",
       "Name: count, dtype: int64"
      ]
     },
     "execution_count": 26,
     "metadata": {},
     "output_type": "execute_result"
    }
   ],
   "source": [
    "from sklearn.preprocessing import OneHotEncoder\n",
    "\n",
    "state_col = df[['x.state']]\n",
    "encoder = OneHotEncoder()\n",
    "encoded_column = encoder.fit_transform(state_col).toarray()\n",
    "encoded_df = pd.DataFrame(encoded_column, columns=encoder.get_feature_names_out(['x.state']))\n",
    "\n",
    "df_encoded = pd.concat([df, encoded_df], axis=1)\n",
    "df_encoded = df_encoded.drop(columns=['x.state'])\n",
    "df_encoded['bad_sleep'].value_counts()\n"
   ]
  },
  {
   "cell_type": "code",
   "execution_count": 27,
   "id": "5317d168-7262-46e6-8618-3e6d70d40510",
   "metadata": {},
   "outputs": [
    {
     "data": {
      "text/plain": [
       "bad_sleep\n",
       "0.0    284865\n",
       "1.0    160100\n",
       "Name: count, dtype: int64"
      ]
     },
     "execution_count": 27,
     "metadata": {},
     "output_type": "execute_result"
    }
   ],
   "source": [
    "from sklearn.impute import SimpleImputer\n",
    "\n",
    "imputer = SimpleImputer(strategy='most_frequent')\n",
    "df_imputed = pd.DataFrame(imputer.fit_transform(df_encoded), columns=df_encoded.columns)\n",
    "df_imputed['bad_sleep'].value_counts()"
   ]
  },
  {
   "cell_type": "code",
   "execution_count": 28,
   "id": "f371fa64-cc6e-43d3-8a78-e94b51c8cdac",
   "metadata": {},
   "outputs": [
    {
     "data": {
      "text/plain": [
       "bad_sleep\n",
       "0.0    145172\n",
       "1.0     78026\n",
       "Name: count, dtype: int64"
      ]
     },
     "execution_count": 28,
     "metadata": {},
     "output_type": "execute_result"
    }
   ],
   "source": [
    "df_no_missing = df.dropna(subset=df.columns, how='any')\n",
    "df_no_missing['bad_sleep'].value_counts()"
   ]
  },
  {
   "cell_type": "code",
   "execution_count": 29,
   "id": "c1f0938d-87a7-47d3-a8f1-3da2ee570675",
   "metadata": {},
   "outputs": [
    {
     "data": {
      "text/plain": [
       "bad_sleep\n",
       "0.0    284865\n",
       "1.0    284865\n",
       "Name: count, dtype: int64"
      ]
     },
     "execution_count": 29,
     "metadata": {},
     "output_type": "execute_result"
    }
   ],
   "source": [
    "from sklearn.model_selection import train_test_split\n",
    "from sklearn.tree import DecisionTreeClassifier\n",
    "from sklearn.metrics import accuracy_score\n",
    "from sklearn.utils import resample\n",
    "\n",
    "dataset = df_imputed\n",
    "\n",
    "# Separate majority and minority classes\n",
    "df_majority = dataset[dataset['bad_sleep'] == 0]\n",
    "df_minority = dataset[dataset['bad_sleep'] == 1]\n",
    "\n",
    "# Oversample the minority class\n",
    "df_minority_upsampled = resample(df_minority, replace=True, n_samples=len(df_majority), random_state=42)\n",
    "\n",
    "# Combine majority class with oversampled minority class\n",
    "dataset = pd.concat([df_majority, df_minority_upsampled])\n",
    "\n",
    "X_train, X_test, y_train, y_test = train_test_split(dataset.drop(columns = ['bad_sleep']), dataset['bad_sleep'], test_size=0.1, random_state=111)\n",
    "\n",
    "dataset['bad_sleep'].value_counts()"
   ]
  },
  {
   "cell_type": "code",
   "execution_count": 30,
   "id": "914b6ebe-f7b2-4de9-b3a9-33be7842ca2c",
   "metadata": {},
   "outputs": [
    {
     "name": "stdout",
     "output_type": "stream",
     "text": [
      "Train Accuracy: 0.62057\n",
      "Precision: 0.6318736619442004\n",
      "Recall: 0.5778565606218384\n",
      "F1-score: 0.603659120401399\n",
      "\n",
      "\n",
      "Test Accuracy: 0.61708\n",
      "Precision: 0.6269962558263926\n",
      "Recall: 0.576552838673412\n",
      "F1-score: 0.6007174493941945\n"
     ]
    }
   ],
   "source": [
    "import matplotlib.pyplot as plt\n",
    "from sklearn.tree import plot_tree\n",
    "from sklearn.metrics import precision_score, recall_score, f1_score, confusion_matrix\n",
    "\n",
    "\n",
    "def performance(y_true, y_pred):\n",
    "    precision = precision_score(y_true, y_pred)\n",
    "    recall = recall_score(y_true, y_pred)\n",
    "    f1 = f1_score(y_true, y_pred)\n",
    "    \n",
    "    print(\"Precision:\", precision)\n",
    "    print(\"Recall:\", recall)\n",
    "    print(\"F1-score:\", f1)\n",
    "\n",
    "\n",
    "decision_tree = DecisionTreeClassifier(min_samples_leaf=500)\n",
    "decision_tree.fit(X_train, y_train)\n",
    "\n",
    "y_test_pred = decision_tree.predict(X_test)\n",
    "y_train_pred = decision_tree.predict(X_train)\n",
    "\n",
    "# Evaluate the accuracy of the classifier\n",
    "accuracy = accuracy_score(y_train, y_train_pred)\n",
    "print(f\"Train Accuracy: {accuracy:.5f}\")\n",
    "performance(y_train, y_train_pred)\n",
    "print(\"\\n\")\n",
    "\n",
    "accuracy = accuracy_score(y_test, y_test_pred)\n",
    "print(f\"Test Accuracy: {accuracy:.5f}\")\n",
    "performance(y_test, y_test_pred)"
   ]
  },
  {
   "cell_type": "code",
   "execution_count": 33,
   "id": "be05cb30-b4ea-4d87-a3c4-bafb567e8dc8",
   "metadata": {},
   "outputs": [
    {
     "name": "stdout",
     "output_type": "stream",
     "text": [
      "Train Accuracy: 0.62088\n",
      "Precision: 0.644771003773021\n",
      "Recall: 0.5385275408442245\n",
      "F1-score: 0.5868796926169847\n",
      "\n",
      "\n",
      "Test Accuracy: 0.61936\n",
      "Precision: 0.6411260098276006\n",
      "Recall: 0.540893760539629\n",
      "F1-score: 0.5867601661648691\n"
     ]
    }
   ],
   "source": [
    "from sklearn.ensemble import RandomForestClassifier\n",
    "from sklearn.metrics import accuracy_score\n",
    "\n",
    "random_forest_decision_tree = RandomForestClassifier(n_estimators=50, max_depth=10)\n",
    "random_forest_decision_tree.fit(X_train, y_train)\n",
    "\n",
    "y_train_pred = random_forest_decision_tree.predict(X_train)\n",
    "y_test_pred = random_forest_decision_tree.predict(X_test)\n",
    "\n",
    "\n",
    "accuracy = accuracy_score(y_train, y_train_pred)\n",
    "print(f\"Train Accuracy: {accuracy:.5f}\")\n",
    "performance(y_train, y_train_pred)\n",
    "print(\"\\n\")\n",
    "\n",
    "accuracy = accuracy_score(y_test, y_test_pred)\n",
    "print(f\"Test Accuracy: {accuracy:.5f}\")\n",
    "performance(y_test, y_test_pred)"
   ]
  },
  {
   "cell_type": "code",
   "execution_count": 32,
   "id": "c28def36-7a45-42d6-a778-2ee12434e835",
   "metadata": {},
   "outputs": [
    {
     "name": "stdout",
     "output_type": "stream",
     "text": [
      "Train Accuracy: 0.60959\n",
      "Precision: 0.6293982515180672\n",
      "Recall: 0.5332116489405268\n",
      "F1-score: 0.5773260306829554\n",
      "\n",
      "\n",
      "Test Accuracy: 0.61027\n",
      "Precision: 0.629168042258171\n",
      "Recall: 0.5356239460370995\n",
      "F1-score: 0.5786397449521784\n"
     ]
    }
   ],
   "source": [
    "from sklearn.linear_model import LogisticRegression\n",
    "from sklearn.preprocessing import MinMaxScaler\n",
    "\n",
    "scaler = MinMaxScaler()\n",
    "\n",
    "X_train_normalized = scaler.fit_transform(X_train)\n",
    "X_test_normalized = scaler.fit_transform(X_test)\n",
    "\n",
    "logistic_regressor = LogisticRegression()\n",
    "logistic_regressor.fit(X_train_normalized, y_train)\n",
    "\n",
    "y_test_pred = logistic_regressor.predict(X_test_normalized)\n",
    "y_train_pred = logistic_regressor.predict(X_train_normalized)\n",
    "\n",
    "accuracy = accuracy_score(y_train, y_train_pred)\n",
    "print(f\"Train Accuracy: {accuracy:.5f}\")\n",
    "performance(y_train, y_train_pred)\n",
    "print(\"\\n\")\n",
    "\n",
    "accuracy = accuracy_score(y_test, y_test_pred)\n",
    "print(f\"Test Accuracy: {accuracy:.5f}\")\n",
    "performance(y_test, y_test_pred)\n"
   ]
  },
  {
   "cell_type": "code",
   "execution_count": null,
   "id": "2cd4a679-f0ac-4772-bb97-b1ab00af2383",
   "metadata": {},
   "outputs": [],
   "source": [
    "# from sklearn.ensemble import BaggingClassifier\n",
    "# from sklearn.tree import DecisionTreeClassifier\n",
    "# from sklearn.model_selection import train_test_split\n",
    "# from sklearn.metrics import accuracy_score\n",
    "\n",
    "# # Create a base decision tree classifier\n",
    "# base_tree = DecisionTreeClassifier(min_samples_leaf=300)\n",
    "\n",
    "# # Create a bagging classifier with 50 base classifiers\n",
    "# bagging_classifier = BaggingClassifier(base_tree, n_estimators=30)\n",
    "\n",
    "# # Fit the model\n",
    "# bagging_classifier.fit(X_train, y_train)\n",
    "\n",
    "# # Make predictions\n",
    "# y_train_pred = bagging_classifier.predict(X_train)\n",
    "# y_test_pred = bagging_classifier.predict(X_test)\n",
    "\n",
    "# accuracy = accuracy_score(y_train, y_train_pred)\n",
    "# print(f\"Train Accuracy: {accuracy:.5f}\")\n",
    "# performance(y_train, y_train_pred)\n",
    "# print(\"\\n\")\n",
    "\n",
    "# accuracy = accuracy_score(y_test, y_test_pred)\n",
    "# print(f\"Test Accuracy: {accuracy:.5f}\")\n",
    "# performance(y_test, y_test_pred)\n"
   ]
  },
  {
   "cell_type": "code",
   "execution_count": null,
   "id": "5f02a5d6-ff00-42dd-acc9-5ec1d75fce6c",
   "metadata": {},
   "outputs": [],
   "source": [
    "# from sklearn.ensemble import GradientBoostingClassifier\n",
    "# from sklearn.tree import DecisionTreeClassifier\n",
    "# from sklearn.model_selection import train_test_split\n",
    "# from sklearn.metrics import accuracy_score\n",
    "\n",
    "\n",
    "# # Create a gradient boosting classifier with 100 base estimators (trees)\n",
    "# gradient_boosting_classifier = GradientBoostingClassifier(n_estimators=100, learning_rate=0.1)\n",
    "\n",
    "# # Fit the model\n",
    "# gradient_boosting_classifier.fit(X_train, y_train)\n",
    "\n",
    "# # Make predictions\n",
    "# y_train_pred = gradient_boosting_classifier.predict(X_train)\n",
    "# y_test_pred = gradient_boosting_classifier.predict(X_test)\n",
    "\n",
    "# accuracy = accuracy_score(y_train, y_train_pred)\n",
    "# print(f\"Train Accuracy: {accuracy:.5f}\")\n",
    "# performance(y_train, y_train_pred)\n",
    "# print(\"\\n\")\n",
    "\n",
    "# accuracy = accuracy_score(y_test, y_test_pred)\n",
    "# print(f\"Test Accuracy: {accuracy:.5f}\")\n",
    "# performance(y_test, y_test_pred)"
   ]
  },
  {
   "cell_type": "code",
   "execution_count": null,
   "id": "9e5f4efc-de72-4809-9dbc-8ab62c114c92",
   "metadata": {},
   "outputs": [],
   "source": [
    "# from sklearn.neighbors import KNeighborsClassifier\n",
    "# from sklearn.preprocessing import MinMaxScaler\n",
    "\n",
    "# scaler = MinMaxScaler()\n",
    "\n",
    "# X_train_normalized = scaler.fit_transform(X_train)\n",
    "# X_test_normalized = scaler.fit_transform(X_test)\n",
    "\n",
    "# # Create kNN classifier\n",
    "# knn_classifier = KNeighborsClassifier(n_neighbors = 3)\n",
    "\n",
    "# # Train the classifier\n",
    "# knn_classifier.fit(X_train_normalized, y_train)\n",
    "\n",
    "# y_train_pred = knn_classifier.predict(X_train_normalized)\n",
    "# y_test_pred = knn_classifier.predict(X_test_normalized)\n",
    "\n",
    "# accuracy = accuracy_score(y_train, y_train_pred)\n",
    "# print(f\"Train Accuracy: {accuracy:.5f}\")\n",
    "# performance(y_train, y_train_pred)\n",
    "# print(\"\\n\")\n",
    "\n",
    "# accuracy = accuracy_score(y_test, y_test_pred)\n",
    "# print(f\"Test Accuracy: {accuracy:.5f}\")\n",
    "# performance(y_test, y_test_pred)\n"
   ]
  },
  {
   "cell_type": "code",
   "execution_count": null,
   "id": "e9d8489a-a899-4a74-9a46-d0bc6c9ea6ca",
   "metadata": {},
   "outputs": [],
   "source": [
    "# from mlxtend.classifier import StackingClassifier\n",
    "# classifier1 = RandomForestClassifier(n_estimators=100, max_depth=9)\n",
    "# classifier2 = DecisionTreeClassifier(min_samples_leaf=500)\n",
    "# classifier3 = DecisionTreeClassifier(n_neighbors=k)\n",
    "# meta_classifier = LogisticRegression()\n",
    "\n",
    "# stacking_classifier = StackingClassifier(classifiers=[classifier1, classifier2, classifier3], meta_classifier=meta_classifier)\n",
    "\n",
    "# stacking_classifier.fit(X_train, y_train)\n",
    "# stacking_classifier.fit(X_train, y_train)\n",
    "\n",
    "# accuracy = accuracy_score(y_train, y_train_pred)\n",
    "# print(f\"Train Accuracy: {accuracy:.5f}\")\n",
    "# performance(y_train, y_train_pred)\n",
    "# print(\"\\n\")\n",
    "\n",
    "# accuracy = accuracy_score(y_test, y_test_pred)\n",
    "# print(f\"Test Accuracy: {accuracy:.5f}\")\n",
    "# performance(y_test, y_test_pred)"
   ]
  }
 ],
 "metadata": {
  "kernelspec": {
   "display_name": "Python 3 (ipykernel)",
   "language": "python",
   "name": "python3"
  },
  "language_info": {
   "codemirror_mode": {
    "name": "ipython",
    "version": 3
   },
   "file_extension": ".py",
   "mimetype": "text/x-python",
   "name": "python",
   "nbconvert_exporter": "python",
   "pygments_lexer": "ipython3",
   "version": "3.11.0"
  }
 },
 "nbformat": 4,
 "nbformat_minor": 5
}
